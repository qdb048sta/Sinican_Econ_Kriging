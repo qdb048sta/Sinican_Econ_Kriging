{
 "cells": [
  {
   "cell_type": "code",
   "execution_count": 1,
   "metadata": {},
   "outputs": [],
   "source": [
    "import pandas as pd"
   ]
  },
  {
   "cell_type": "code",
   "execution_count": null,
   "metadata": {},
   "outputs": [],
   "source": [
    "from datetime import datetime\n",
    "from datetime import timedelta"
   ]
  },
  {
   "cell_type": "code",
   "execution_count": null,
   "metadata": {},
   "outputs": [],
   "source": []
  },
  {
   "cell_type": "code",
   "execution_count": null,
   "metadata": {},
   "outputs": [],
   "source": [
    "x=datetime(2004,1,19)\n",
    "empty=[]\n",
    "while x<=datetime(2004,3,19)+timedelta(days=60):\n",
    "    empty.append(x)\n",
    "    x=x+timedelta(days=1)"
   ]
  },
  {
   "cell_type": "code",
   "execution_count": null,
   "metadata": {},
   "outputs": [],
   "source": [
    "def python_date_to_stata_date(x):\n",
    "    split=str(x)[:10].split(\"-\")\n",
    "    string=split[0]+split[1]+split[2]\n",
    "    return string\n",
    "    "
   ]
  },
  {
   "cell_type": "code",
   "execution_count": null,
   "metadata": {},
   "outputs": [],
   "source": [
    "df=pd.DataFrame(columns=[\"date\"])\n",
    "df[\"date\"]=empty\n",
    "df[\"date\"]=df[\"date\"].apply(python_date_to_stata_date)"
   ]
  },
  {
   "cell_type": "code",
   "execution_count": null,
   "metadata": {},
   "outputs": [],
   "source": [
    "df.to_stata(\"cartesian_product.dta\")"
   ]
  },
  {
   "cell_type": "code",
   "execution_count": null,
   "metadata": {},
   "outputs": [],
   "source": [
    "df_oneten=pd.read_stata(\"D:\\\\User_Data\\\\Desktop\\\\kan-2\\\\CD2004_one_tenth.dta\")\n",
    "df_date=pd.read_stata(\"cartesian_product.dta\")"
   ]
  },
  {
   "cell_type": "code",
   "execution_count": null,
   "metadata": {},
   "outputs": [],
   "source": [
    "df_oneten=df_oneten[df_oneten[\"ID\"]!=\"\"]\n",
    "df_oneten=df_oneten[[\"ID\"]].drop_duplicates()\n",
    "df_date=df_date[[\"date\"]]"
   ]
  },
  {
   "cell_type": "code",
   "execution_count": null,
   "metadata": {},
   "outputs": [],
   "source": [
    "primary=pd.read_stata(\"D:\\\\User_Data\\\\Desktop\\\\kan-2\\\\cross_time_ID.dta\")\n",
    "df=pd.read_stata(\"D:\\\\User_Data\\\\Desktop\\\\kan-2\\\\CD2004_one_tenth.dta\")\n",
    "new_col=[]\n",
    "for i in primary[\"ID\"]:\n",
    "    for d in primary[\"date\"]:\n",
    "        sub_df=df[(df[\"ID\"]==i)&(df[\"FUNC_DATE\"]==\"d\")]\n",
    "        if sub_df.shape[0]>=0:\n",
    "            new_col.append(1)\n",
    "        else:\n",
    "            new_col.append(0)\n",
    "            "
   ]
  },
  {
   "cell_type": "code",
   "execution_count": 2,
   "metadata": {},
   "outputs": [],
   "source": [
    "###########################################################################################################\n",
    "from datetime import datetime\n",
    "def num_date(x):\n",
    "    date=datetime.strptime(x,\"%Y-%m-%d\")\n",
    "    diff=date-datetime(1960,1,1)\n",
    "    return diff.days\n",
    "def coordinate_dummy(x,y,cord):\n",
    "    if(x,y)==cord:\n",
    "        return 1\n",
    "    else: \n",
    "        return 0\n",
    "def dummy_for_both(x,y):\n",
    "    return x*y"
   ]
  },
  {
   "cell_type": "code",
   "execution_count": 8,
   "metadata": {},
   "outputs": [
    {
     "name": "stderr",
     "output_type": "stream",
     "text": [
      "e:\\python\\lib\\site-packages\\numpy\\lib\\arraysetops.py:569: FutureWarning: elementwise comparison failed; returning scalar instead, but in the future will perform elementwise comparison\n",
      "  mask |= (ar1 == a)\n"
     ]
    }
   ],
   "source": [
    "df=pd.read_csv(\"D:\\\\User_Data\\\\Desktop\\\\kan-2\\\\PM2.5_avg_for_regression.csv\",index_col=0)\n",
    "df=df[df[\"x\"]>=0]\n",
    "df=df[df[\"dummy_for_distance\"]==1]\n",
    "####\n",
    "df[\"D\"]=df[\"dummy_for_date\"]\n",
    "####\n",
    "df[\"time\"]=df[\"date\"].apply(num_date)\n",
    "####\n",
    "df[\"D_X_time\"]=df.apply(lambda x:dummy_for_both(x[\"D\"],x[\"time\"]),axis=1)\n",
    "####\n",
    "x_y_cord=df[[\"x\",\"y\"]].drop_duplicates()\n",
    "x_y_cord=x_y_cord.sort_values(by=[\"x\",\"y\"])\n",
    "new_index=[]\n",
    "for i in range(0,x_y_cord.shape[0]):\n",
    "    new_index.append(\"coordinate num : \"+str(i))\n",
    "x_y_cord.index=new_index\n",
    "for i in x_y_cord.index:\n",
    "    x_cord=x_y_cord.loc[i][0]\n",
    "    y_cord=x_y_cord.loc[i][1]\n",
    "    df[i]=df.apply(lambda x:coordinate_dummy(x[\"x\"],x[\"y\"],(x_cord,y_cord)),axis=1)\n",
    "df.to_csv(\"D:\\\\User_Data\\\\Desktop\\\\kan-2\\\\PM2.5_avg_for_regression_pre_processed.csv\")\n",
    "    \n",
    "    \n"
   ]
  },
  {
   "cell_type": "code",
   "execution_count": 10,
   "metadata": {},
   "outputs": [
    {
     "name": "stderr",
     "output_type": "stream",
     "text": [
      "e:\\python\\lib\\site-packages\\numpy\\lib\\arraysetops.py:569: FutureWarning: elementwise comparison failed; returning scalar instead, but in the future will perform elementwise comparison\n",
      "  mask |= (ar1 == a)\n"
     ]
    }
   ],
   "source": [
    "df_reg=pd.read_csv(\"D:\\\\User_Data\\\\Desktop\\\\kan-2\\\\PM2.5_avg_for_regression_pre_processed.csv\",index_col=0)"
   ]
  },
  {
   "cell_type": "code",
   "execution_count": 13,
   "metadata": {},
   "outputs": [],
   "source": [
    "x_y_cord.to_csv(\"Shenao_coordinate.csv\")"
   ]
  },
  {
   "cell_type": "code",
   "execution_count": null,
   "metadata": {},
   "outputs": [],
   "source": []
  },
  {
   "cell_type": "code",
   "execution_count": 13,
   "metadata": {},
   "outputs": [],
   "source": [
    "d=test[[\"x\",\"y\"]].drop_duplicates()\n",
    "d=d.sort_values(by=[\"x\",\"y\"])"
   ]
  },
  {
   "cell_type": "code",
   "execution_count": 15,
   "metadata": {},
   "outputs": [],
   "source": [
    "xd=[i for i in d.iterrows()]"
   ]
  },
  {
   "cell_type": "code",
   "execution_count": null,
   "metadata": {},
   "outputs": [],
   "source": []
  },
  {
   "cell_type": "code",
   "execution_count": null,
   "metadata": {},
   "outputs": [],
   "source": []
  },
  {
   "cell_type": "code",
   "execution_count": null,
   "metadata": {},
   "outputs": [],
   "source": []
  },
  {
   "cell_type": "code",
   "execution_count": null,
   "metadata": {},
   "outputs": [],
   "source": []
  },
  {
   "cell_type": "code",
   "execution_count": null,
   "metadata": {},
   "outputs": [],
   "source": []
  },
  {
   "cell_type": "code",
   "execution_count": null,
   "metadata": {},
   "outputs": [],
   "source": []
  },
  {
   "cell_type": "code",
   "execution_count": null,
   "metadata": {},
   "outputs": [],
   "source": []
  },
  {
   "cell_type": "code",
   "execution_count": null,
   "metadata": {},
   "outputs": [],
   "source": []
  },
  {
   "cell_type": "code",
   "execution_count": null,
   "metadata": {},
   "outputs": [],
   "source": []
  }
 ],
 "metadata": {
  "kernelspec": {
   "display_name": "Python 3",
   "language": "python",
   "name": "python3"
  },
  "language_info": {
   "codemirror_mode": {
    "name": "ipython",
    "version": 3
   },
   "file_extension": ".py",
   "mimetype": "text/x-python",
   "name": "python",
   "nbconvert_exporter": "python",
   "pygments_lexer": "ipython3",
   "version": "3.7.9"
  }
 },
 "nbformat": 4,
 "nbformat_minor": 4
}
