{
 "cells": [
  {
   "cell_type": "code",
   "execution_count": null,
   "metadata": {},
   "outputs": [],
   "source": [
    "import os\n",
    "from datetime import datetime\n",
    "path=\"D:\\\\User_Data\\\\Desktop\\\\Python_Kriging\\\\\"\n",
    "os.chdir(path)\n",
    "import pandas as pd\n",
    "import numpy as np\n",
    "def date_to_delta(x):#transform numerate date to datetime\n",
    "    x=str(x)\n",
    "    time=datetime.strptime(x,\"%Y%m%d\")\n",
    "    return time\n",
    "import numpy as np\n",
    "import pykrige.kriging_tools as kt\n",
    "from pykrige.ok import OrdinaryKriging\n",
    "import matplotlib.pyplot as plt\n",
    "import logging\n",
    "FORMAT = '%(asctime)s %(levelname)s: %(message)s'\n",
    "logging.basicConfig(level=logging.DEBUG, format=FORMAT,filename='mylog.log', filemode='a')\n",
    "import warnings\n",
    "warnings.filterwarnings('ignore')"
   ]
  },
  {
   "cell_type": "code",
   "execution_count": null,
   "metadata": {},
   "outputs": [],
   "source": [
    "df=pd.read_csv(\"kriging.csv\")\n",
    "pollution_set=set(df[\"pol\"])\n",
    "tw_grid=pd.read_csv(path+\"tw_grid_3km.csv\")\n",
    "gridx=tw_grid[\"x\"]\n",
    "gridy=tw_grid[\"y\"]\n",
    "for p in pollution_set:\n",
    "    if not os.path.exists(path+p):\n",
    "        os.makedirs(path+p)\n",
    "    for v in [\"avg\",\"max\"]:\n",
    "        if not os.path.exists(path+\"\\\\\"+p+\"\\\\\"+v):\n",
    "            os.makedirs(path+\"\\\\\"+p+\"\\\\\"+v)\n",
    "        sub_df_1=df[[\"date\",\"x\",\"y\",v,\"poll\",\"station\"]]\n",
    "        sub_df_1[\"date_delta\"]=sub_df_1[\"date\"].apply(date_to_delta)\n",
    "        sub_df_1=sub_df_1.sort_values(\"date_delta\",ascending=False)\n",
    "        sub_df_1=sub_df_1[sub_df_1[\"date_delta\"]>=datetime(1998,1,1)]\n",
    "        sub_df_1=sub_df_1[sub_df_1[\"pol\"]==p]\n",
    "        date_delta=set(sub_df_1[\"date_delta\"])\n",
    "        for d in date_delta:\n",
    "            sub_df_2=sub_df_1[sub_df_1[\"date_delta\"]==d]\n",
    "            sub_df_2=sub_df_2.dropna(how=\"any\")\n",
    "            if len(sub_df_2)>0:\n",
    "                data=np.array(sub_df_2)\n",
    "                try:\n",
    "                    OK = OrdinaryKriging(\n",
    "                        data[:, 1],\n",
    "                        data[:, 2],\n",
    "                        data[:, 3],\n",
    "                        variogram_model=m,\n",
    "                        verbose=False,\n",
    "                        enable_plotting=False,)\n",
    "                    z, ss = OK.execute(\"points\",gridx,gridy)\n",
    "                    sub_df_3=pd.DataFrame()\n",
    "                    sub_df_3[\"x\"]=gridx\n",
    "                    sub_df_3[\"y\"]=gridy\n",
    "                    sub_df_3[\"predicted_value\"]=z\n",
    "                    sub_df_3[\"predicted_std\"]=ss\n",
    "                    sub_df_3.to_csv(path+\"\\\\\"+p+\"\\\\\"+v+\"\\\\\"+p+\"_\"+v+\"_\"+\"_\"+str(sub_df_2[\"date\"].iloc[0])+\"_\"+\"kriging.csv\")\n",
    "                except Exception as e:\n",
    "                            logging.debug(p+\"_\"+v+\"_\"+m+\"_\"+str(sub_df_2[\"date\"].iloc[0])+\"is not properly estimated\")\n",
    "            else:\n",
    "                    logging.debug(str(d)+\" is empty\")\n",
    "                \n",
    "\n",
    "                    \n",
    "\n",
    "                \n",
    "                \n",
    "            \n",
    "            \n",
    "            \n",
    "            \n",
    "    \n",
    "    print(datetime.now())\n",
    "            \n",
    "            \n",
    "            \n",
    "            \n",
    "            \n",
    "            \n",
    "            \n",
    "        \n",
    "        \n",
    "        \n",
    "        \n",
    "    \n",
    "    \n"
   ]
  },
  {
   "cell_type": "code",
   "execution_count": null,
   "metadata": {},
   "outputs": [],
   "source": [
    "import os\n",
    "from datetime import datetime\n",
    "path=\"D:\\\\User_Data\\\\Desktop\\\\Python_Kriging\\\\\"\n",
    "os.chdir(path)\n",
    "import pandas as pd\n",
    "import numpy as np\n",
    "def date_to_delta(x):#transform numerate date to datetime\n",
    "    x=str(x)\n",
    "    time=datetime.strptime(x,\"%Y%m%d\")\n",
    "    return time\n",
    "import numpy as np\n",
    "import pykrige.kriging_tools as kt\n",
    "from pykrige.ok import OrdinaryKriging\n",
    "import matplotlib.pyplot as plt\n",
    "import logging\n",
    "FORMAT = '%(asctime)s %(levelname)s: %(message)s'\n",
    "logging.basicConfig(level=logging.DEBUG, format=FORMAT,filename='mylog.log', filemode='a')\n",
    "import warnings\n",
    "warnings.filterwarnings('ignore')\n",
    "from geopy.distance import geodesic\n",
    "from datetime import timedelta\n",
    "import logging\n",
    "FORMAT = '%(asctime)s %(levelname)s: %(message)s'\n",
    "logging.basicConfig(level=logging.DEBUG, format=FORMAT,filename='mylog2.log', filemode='a')\n",
    "\n",
    "def distance(x,y):\n",
    "    target=(x,y)\n",
    "    shen_out=(25.1272,121.8156)\n",
    "    dist=geodesic(shen_out,target)#target location should put in first place\n",
    "    return dist.km\n",
    "def dummy_for_distance(x):\n",
    "    if x<=50:\n",
    "        return 1\n",
    "    else:\n",
    "        return 0\n",
    "def dummy_for_date(x):\n",
    "    date=datetime.strptime(x,\"%Y-%m-%d\")\n",
    "    if date>datetime(2007,9,30):\n",
    "        return 1\n",
    "    else:\n",
    "        return 0\n",
    "def dummy_for_both(x,y):\n",
    "    return x*y"
   ]
  },
  {
   "cell_type": "code",
   "execution_count": null,
   "metadata": {},
   "outputs": [],
   "source": [
    "for p in [\"PM2.5\",\"NO2\",\"SO2\",\"PM10\",\"NO\",\"NOx\",\"O3\"]:\n",
    "    for v in [\"avg\",\"max\"]:\n",
    "        print(p+\" \"+v+\" \"+\"starting\",datetime.now())\n",
    "        starting_time=datetime(1998,1,1)\n",
    "        starting_df=pd.DataFrame([[-1,-1,-1,-1,datetime(1980,1,1),-1,-1,-1,-1]]\n",
    "                                 ,columns=['x', 'y', 'predicted_value', 'predicted_std',\"date\",\"distance\",\n",
    "                                           \"dummy_for_distance\",\"dummy_for_date\",\"dummy_for_both\"])\n",
    "        while starting_time<datetime(2017,1,1):\n",
    "            try:\n",
    "                \n",
    "                df_by_date=pd.read_csv(path+p+\"\\\\\"+v+\"\\\\\"+\"linear\"+\"\\\\\"+p+\"_\"+v+\"_\"+\"linear\"+\"_\"\n",
    "                                        +str(starting_time)[:4]+str(starting_time)[5:7]+str(starting_time)[8:10]+\"_kriging.csv\"\n",
    "                                        ,index_col=0)\n",
    "                \n",
    "                date=[str(starting_time)[:10]]*len(df_by_date)\n",
    "                df_by_date[\"date\"]=date\n",
    "                df_by_date[\"distance\"]=df_by_date.apply(lambda x: distance(x[\"y\"],x[\"x\"]),axis=1)\n",
    "                df_by_date[\"dummy_for_distance\"]=df_by_date[\"distance\"].apply(dummy_for_distance)\n",
    "                df_by_date[\"dummy_for_date\"]=df_by_date[\"date\"].apply(dummy_for_date)\n",
    "                df_by_date[\"dummy_for_both\"]=df_by_date.apply(lambda x:dummy_for_both(x[\"dummy_for_distance\"],x[\"dummy_for_date\"]),axis=1)\n",
    "                starting_df=starting_df.append(df_by_date,ignore_index=True)\n",
    "            except Exception as e:\n",
    "                pass\n",
    "            starting_time=starting_time+timedelta(days=1)\n",
    "        starting_df.to_csv(p+\"_\"+v+\"_\"+\"for_regression.csv\")\n",
    "        print(\"sucessful\")\n",
    "        print(datetime.now())\n",
    "        \n",
    "            \n",
    "      \n"
   ]
  },
  {
   "cell_type": "code",
   "execution_count": null,
   "metadata": {},
   "outputs": [],
   "source": [
    "import numpy as np\n",
    "import statsmodels.api as sm\n",
    "import statsmodels.formula.api as smf"
   ]
  },
  {
   "cell_type": "code",
   "execution_count": null,
   "metadata": {},
   "outputs": [],
   "source": [
    "pollution=[\"CO\",\"NO\",\"NO2\",\"NOx\",\"O3\",\"PM10\",\"PM2.5\",\"SO2\"]\n",
    "for i in pollution:\n",
    "    globals()[i]=i\n",
    "    "
   ]
  },
  {
   "cell_type": "code",
   "execution_count": null,
   "metadata": {},
   "outputs": [],
   "source": [
    "reg_df=pd.read_csv(\"CO_avg_for_regression.csv\")"
   ]
  },
  {
   "cell_type": "code",
   "execution_count": null,
   "metadata": {},
   "outputs": [],
   "source": [
    "columns=['x', 'y', 'predicted_value', 'predicted_std', 'date',\n",
    "       'distance', 'dummy_for_distance', 'dummy_for_date', 'dummy_for_both']"
   ]
  },
  {
   "cell_type": "code",
   "execution_count": null,
   "metadata": {},
   "outputs": [],
   "source": []
  },
  {
   "cell_type": "code",
   "execution_count": null,
   "metadata": {},
   "outputs": [],
   "source": [
    "Y=test[[\"predicted_value\"]]\n",
    "X=test[[\"dummy_for_distance\",\"dummy_for_date\",\"dummy_for_both\"]]"
   ]
  },
  {
   "cell_type": "code",
   "execution_count": null,
   "metadata": {},
   "outputs": [],
   "source": [
    "model=sm.OLS(Y,X)\n",
    "result=model.fit()"
   ]
  },
  {
   "cell_type": "code",
   "execution_count": 2,
   "metadata": {},
   "outputs": [
    {
     "name": "stdout",
     "output_type": "stream",
     "text": [
      "start 2021-01-28 09:35:56.249265\n",
      "end 2021-01-28 12:30:16.732314\n",
      "start 2021-01-28 12:30:16.735314\n",
      "end 2021-01-28 15:19:43.051334\n",
      "start 2021-01-28 15:19:43.051334\n",
      "end 2021-01-28 18:01:44.342290\n",
      "start 2021-01-28 18:01:44.342290\n",
      "end 2021-01-28 20:51:01.270125\n",
      "start 2021-01-28 20:51:01.270125\n",
      "end 2021-01-28 23:33:50.225509\n",
      "start 2021-01-28 23:33:50.241134\n",
      "end 2021-01-29 02:15:35.923565\n",
      "start 2021-01-29 02:15:35.923565\n",
      "end 2021-01-29 04:55:59.763414\n",
      "start 2021-01-29 04:55:59.763414\n",
      "end 2021-01-29 07:38:15.044510\n",
      "start 2021-01-29 07:38:15.060136\n",
      "end 2021-01-29 10:21:57.212129\n",
      "start 2021-01-29 10:21:57.212129\n",
      "end 2021-01-29 13:03:22.023465\n",
      "start 2021-01-29 13:03:22.026420\n",
      "end 2021-01-29 15:45:26.721083\n",
      "start 2021-01-29 15:45:26.723090\n",
      "end 2021-01-29 18:32:03.288006\n",
      "start 2021-01-29 18:32:03.288006\n",
      "end 2021-01-29 21:35:09.277606\n",
      "start 2021-01-29 21:35:09.277606\n",
      "end 2021-01-30 00:24:09.118481\n"
     ]
    }
   ],
   "source": [
    "import os\n",
    "from datetime import datetime\n",
    "import pandas as pd\n",
    "for p in [\"PM2.5\",\"NO2\",\"SO2\",\"PM10\",\"NO\",\"NOx\",\"O3\"]:\n",
    "    for v in [\"avg\",\"max\"]:\n",
    "        print(\"start\",datetime.now())\n",
    "        starting_time=datetime(1998,1,1)\n",
    "        starting_df=pd.DataFrame([[-1,-1,-1,-1,datetime(1980,1,1)]]\n",
    "                                 ,columns=['x', 'y', 'predicted_value', 'predicted_std',\"date\"])\n",
    "        path=\"D:\\\\User_Data\\\\Desktop\\\\Python_Kriging\\\\\"+p+\"\\\\\"+v+\"\\\\\"+\"linear\"\n",
    "        os.chdir(path)\n",
    "        filelist=os.listdir()\n",
    "        for f in filelist:\n",
    "            subdf=pd.read_csv(path+\"\\\\\"+f,index_col=0)\n",
    "            date=f.split(\"_\")[3]\n",
    "            subdf[\"date\"]=date\n",
    "            starting_df=pd.concat([starting_df,subdf],axis=0)\n",
    "        starting_df.to_csv(\"D:\\\\User_Data\\\\Desktop\\\\Python_Kriging\\\\\"+p+\"_\"+v+\"_\"+\"combined_without_preprocessed.csv\")\n",
    "        print(\"end\",datetime.now())\n"
   ]
  },
  {
   "cell_type": "code",
   "execution_count": 6,
   "metadata": {},
   "outputs": [],
   "source": [
    "df1=pd.read_csv(\"D:\\\\User_Data\\\\Desktop\\\\Python_Kriging\\\\O3_max_combined_without_preprocessed.csv\")"
   ]
  },
  {
   "cell_type": "code",
   "execution_count": 5,
   "metadata": {},
   "outputs": [
    {
     "name": "stderr",
     "output_type": "stream",
     "text": [
      "C:\\Users\\user\\anaconda3\\lib\\site-packages\\IPython\\core\\interactiveshell.py:3146: DtypeWarning: Columns (5) have mixed types.Specify dtype option on import or set low_memory=False.\n",
      "  has_raised = await self.run_ast_nodes(code_ast.body, cell_name,\n"
     ]
    }
   ],
   "source": [
    "df2=pd.read_csv(\"D:\\\\User_Data\\\\Desktop\\\\Python_Kriging\\\\Nox_max_combined_without_preprocessed.csv\")"
   ]
  },
  {
   "cell_type": "code",
   "execution_count": null,
   "metadata": {},
   "outputs": [],
   "source": []
  },
  {
   "cell_type": "code",
   "execution_count": null,
   "metadata": {},
   "outputs": [],
   "source": []
  },
  {
   "cell_type": "code",
   "execution_count": null,
   "metadata": {},
   "outputs": [],
   "source": []
  },
  {
   "cell_type": "code",
   "execution_count": null,
   "metadata": {},
   "outputs": [],
   "source": []
  },
  {
   "cell_type": "code",
   "execution_count": null,
   "metadata": {},
   "outputs": [],
   "source": []
  },
  {
   "cell_type": "code",
   "execution_count": null,
   "metadata": {},
   "outputs": [],
   "source": []
  },
  {
   "cell_type": "code",
   "execution_count": null,
   "metadata": {},
   "outputs": [],
   "source": []
  },
  {
   "cell_type": "code",
   "execution_count": null,
   "metadata": {},
   "outputs": [],
   "source": []
  }
 ],
 "metadata": {
  "kernelspec": {
   "display_name": "Python 3",
   "language": "python",
   "name": "python3"
  },
  "language_info": {
   "codemirror_mode": {
    "name": "ipython",
    "version": 3
   },
   "file_extension": ".py",
   "mimetype": "text/x-python",
   "name": "python",
   "nbconvert_exporter": "python",
   "pygments_lexer": "ipython3",
   "version": "3.8.5"
  }
 },
 "nbformat": 4,
 "nbformat_minor": 4
}
